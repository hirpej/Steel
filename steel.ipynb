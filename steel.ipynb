{
 "cells": [
  {
   "cell_type": "markdown",
   "id": "0ae3d229",
   "metadata": {
    "id": "8-xeXKmey7OI",
    "papermill": {
     "duration": 0.006846,
     "end_time": "2024-12-21T11:31:54.527385",
     "exception": false,
     "start_time": "2024-12-21T11:31:54.520539",
     "status": "completed"
    },
    "tags": []
   },
   "source": [
    "<h1 dir=rtl align=center style=\"line-height:200%;font-family:vazir;color:#0099cc\">\n",
    "<font face=\"vazir\" color=\"#0099cc\">\n",
    "شاخه و کلاف\n",
    "</font>\n",
    "</h1>"
   ]
  },
  {
   "cell_type": "markdown",
   "id": "963b7e63",
   "metadata": {
    "id": "oX59O9HmylNa",
    "papermill": {
     "duration": 0.005699,
     "end_time": "2024-12-21T11:31:54.539373",
     "exception": false,
     "start_time": "2024-12-21T11:31:54.533674",
     "status": "completed"
    },
    "tags": []
   },
   "source": [
    "<p dir=\"ltr\" style=\"text-align: justify; line-height: 200%; font-family: Arial; font-size: medium\">\n",
    "<font face=\"Arial\" size=\"3\">\n",
    "You can download the datasets for this exercise from \n",
    "<a href=\"https://docs.google.com/spreadsheets/d/1WHi8Btw9YCuF0vbkBgphPoWb1rmxyZkA/edit?usp=drive_link&ouid=102809079943831791310&rtpof=true&sd=true\">here (Steel)</a> \n",
    "and \n",
    "<a href=\"https://docs.google.com/spreadsheets/d/1MdzmRdPKIAZMPu3XlnognXFPf8t6_XPa/edit?usp=drive_link&ouid=102809079943831791310&rtpof=true&sd=true\">here (Dimdate)</a>.\n",
    "</font>\n",
    "</p>\n"
   ]
  },
  {
   "cell_type": "markdown",
   "id": "a1607776",
   "metadata": {
    "id": "Gotr_4rHTrnz",
    "papermill": {
     "duration": 0.00657,
     "end_time": "2024-12-21T11:31:54.551879",
     "exception": false,
     "start_time": "2024-12-21T11:31:54.545309",
     "status": "completed"
    },
    "tags": []
   },
   "source": [
    "<p dir=\"ltr\" style=\"text-align: justify; line-height: 200%; font-family: Arial; font-size: medium\">\n",
    "<font face=\"Arial\" size=\"3\">\n",
    "Hot rolled steel refers to steel that has been rolled at very high temperatures (above 1700°F), which exceed the recrystallization temperature for most types of steel. This process makes it easier to shape the steel, resulting in products with a wider variety of appearances.\n",
    "</font>\n",
    "</p>\n",
    "\n",
    "<p dir=\"ltr\" style=\"text-align: justify; line-height: 200%; font-family: Arial; font-size: medium\">\n",
    "<font face=\"Arial\" size=\"3\">\n",
    "A hot rolling steel company, due to market conditions, diverse sales, and high sales volume, requires dynamic and diverse reports.  \n",
    "Generally, the production and sales process in this industry works as follows: steel billets enter the system, undergo rolling, and the rolled sections are delivered to customers. A customer places an order for a specific number of bundles (a bundle refers to a packaged group of rebar in the factory); however, sales occur by tonnage, and the cost is calculated per kilogram.  \n",
    "Each bundle corresponds to a billet weighing 2 tons, but it is not fully utilized during the production process. The weight of the final product is less than the ordered weight.  \n",
    "Therefore, the difference between the bundle weight and the sales tonnage indicates the amount of waste.\n",
    "</font>\n",
    "</p>\n",
    "\n",
    "<p dir=\"ltr\" style=\"text-align: justify; line-height: 200%; font-family: Arial; font-size: medium\">\n",
    "<font face=\"Arial\" size=\"3\">\n",
    "Initially, after importing the required libraries, it is necessary to have an overview of the dataframe.  \n",
    "Since the Excel file includes two separate sheets, both sheets need to be read and stored in two separate variables.  \n",
    "The names of these sheets are **Transaction** and **Customer**.  \n",
    "Finally, read and store the **Dimdate** file as well.\n",
    "</font>\n",
    "</p>\n"
   ]
  },
  {
   "cell_type": "code",
   "execution_count": 1,
   "id": "ae053fd1",
   "metadata": {
    "execution": {
     "iopub.execute_input": "2024-12-21T11:31:54.565378Z",
     "iopub.status.busy": "2024-12-21T11:31:54.564936Z",
     "iopub.status.idle": "2024-12-21T11:31:55.249093Z",
     "shell.execute_reply": "2024-12-21T11:31:55.247939Z"
    },
    "id": "fuC9PlwGTrn2",
    "papermill": {
     "duration": 0.693645,
     "end_time": "2024-12-21T11:31:55.251515",
     "exception": false,
     "start_time": "2024-12-21T11:31:54.557870",
     "status": "completed"
    },
    "tags": []
   },
   "outputs": [],
   "source": [
    "import pandas as pd\n",
    "import numpy as np\n",
    "from openpyxl import load_workbook"
   ]
  },
  {
   "cell_type": "markdown",
   "id": "8dc0fa1d",
   "metadata": {
    "id": "Bj986G7GnNR1",
    "papermill": {
     "duration": 0.006263,
     "end_time": "2024-12-21T11:31:55.264554",
     "exception": false,
     "start_time": "2024-12-21T11:31:55.258291",
     "status": "completed"
    },
    "tags": []
   },
   "source": [
    "<p dir=\"ltr\" style=\"text-align: justify; line-height: 200%; font-family: Arial; font-size: medium\">\n",
    "<font face=\"Arial\" size=\"3\">\n",
    "The **Transaction** table has 13 columns as described below:\n",
    "</font>\n",
    "</p>\n",
    "\n",
    "<center>\n",
    "<p dir=\"ltr\" style=\"text-align: justify; line-height: 200%; font-family: Arial; font-size: medium\">\n",
    "<font face=\"Arial\" size=\"3\">\n",
    "\n",
    "| Column Name       | Description                                                                                 |\n",
    "|:------------------:|:-------------------------------------------------------------------------------------------:|\n",
    "| Transaction_ID     | Transaction identifier                                                                     |\n",
    "| Product_ID         | Product identifier                                                                         |\n",
    "| Export             | Indicates whether the product is for export or domestic consumption                        |\n",
    "| Industry           | Specifies the type of customer industry                                                   |\n",
    "| City_Category      | Location category relative to the province of the customer's head office                  |\n",
    "| Stay_In_Customer   | Number of days the customer's order stayed at the factory                                  |\n",
    "| Material_Status    | Indicates whether the customer's product was supplied from inventory or is in production  |\n",
    "| Payment            | Order payment amount in rials                                                              |\n",
    "| Unit_Price         | Price per kilogram of the product in rials                                                 |\n",
    "| Save_Date_Time     | Order registration time in the Persian calendar                                            |\n",
    "| Send_Date          | Shipping date in the Gregorian calendar                                                   |\n",
    "| Customer_ID        | Customer code                                                                             |\n",
    "| Bandel             | Number of bundles (each bundle equals **2 ± 0.05** tons; 2 tons are used in calculations) |\n",
    "| Real_Weight        | Actual weight sold                                                                        |\n",
    "\n",
    "</font>\n",
    "</p>\n",
    "</center>\n"
   ]
  },
  {
   "cell_type": "code",
   "execution_count": 2,
   "id": "53aad9ee",
   "metadata": {
    "execution": {
     "iopub.execute_input": "2024-12-21T11:31:55.287419Z",
     "iopub.status.busy": "2024-12-21T11:31:55.286873Z",
     "iopub.status.idle": "2024-12-21T11:33:38.881941Z",
     "shell.execute_reply": "2024-12-21T11:33:38.880584Z"
    },
    "id": "aFmrDA7jTrn3",
    "papermill": {
     "duration": 103.6162,
     "end_time": "2024-12-21T11:33:38.890337",
     "exception": false,
     "start_time": "2024-12-21T11:31:55.274137",
     "status": "completed"
    },
    "tags": []
   },
   "outputs": [
    {
     "data": {
      "text/html": [
       "<div>\n",
       "<style scoped>\n",
       "    .dataframe tbody tr th:only-of-type {\n",
       "        vertical-align: middle;\n",
       "    }\n",
       "\n",
       "    .dataframe tbody tr th {\n",
       "        vertical-align: top;\n",
       "    }\n",
       "\n",
       "    .dataframe thead th {\n",
       "        text-align: right;\n",
       "    }\n",
       "</style>\n",
       "<table border=\"1\" class=\"dataframe\">\n",
       "  <thead>\n",
       "    <tr style=\"text-align: right;\">\n",
       "      <th></th>\n",
       "      <th>Transaction_ID</th>\n",
       "      <th>Product_ID</th>\n",
       "      <th>Export</th>\n",
       "      <th>Industry</th>\n",
       "      <th>City_Category</th>\n",
       "      <th>Stay_In_Customer</th>\n",
       "      <th>Material_Status</th>\n",
       "      <th>Payment</th>\n",
       "      <th>Unit_Price</th>\n",
       "      <th>Save_Date_Time</th>\n",
       "      <th>Send_Date</th>\n",
       "      <th>Customer_ID</th>\n",
       "      <th>Bandel</th>\n",
       "      <th>real_weight</th>\n",
       "    </tr>\n",
       "  </thead>\n",
       "  <tbody>\n",
       "    <tr>\n",
       "      <th>0</th>\n",
       "      <td>1003590</td>\n",
       "      <td>R.S.102001</td>\n",
       "      <td>0</td>\n",
       "      <td>جوش</td>\n",
       "      <td>A</td>\n",
       "      <td>1</td>\n",
       "      <td>0</td>\n",
       "      <td>2838150000</td>\n",
       "      <td>109437.418061</td>\n",
       "      <td>1400/12/23 08:47</td>\n",
       "      <td>2022-03-16</td>\n",
       "      <td>CU00047</td>\n",
       "      <td>13</td>\n",
       "      <td>25934</td>\n",
       "    </tr>\n",
       "    <tr>\n",
       "      <th>1</th>\n",
       "      <td>1005621</td>\n",
       "      <td>R.S.102002</td>\n",
       "      <td>1</td>\n",
       "      <td>تراش</td>\n",
       "      <td>A</td>\n",
       "      <td>1</td>\n",
       "      <td>0</td>\n",
       "      <td>16065000000</td>\n",
       "      <td>619313.801079</td>\n",
       "      <td>1400/12/21 10:10</td>\n",
       "      <td>2022-03-12</td>\n",
       "      <td>CU00079</td>\n",
       "      <td>13</td>\n",
       "      <td>25940</td>\n",
       "    </tr>\n",
       "    <tr>\n",
       "      <th>2</th>\n",
       "      <td>1001950</td>\n",
       "      <td>R.S.102003</td>\n",
       "      <td>1</td>\n",
       "      <td>پرچ</td>\n",
       "      <td>C</td>\n",
       "      <td>1</td>\n",
       "      <td>0</td>\n",
       "      <td>17228900000</td>\n",
       "      <td>664080.326858</td>\n",
       "      <td>1400/12/16 15:02</td>\n",
       "      <td>2022-03-08</td>\n",
       "      <td>CU00031</td>\n",
       "      <td>13</td>\n",
       "      <td>25944</td>\n",
       "    </tr>\n",
       "    <tr>\n",
       "      <th>3</th>\n",
       "      <td>1001724</td>\n",
       "      <td>R.S.102004</td>\n",
       "      <td>1</td>\n",
       "      <td>ساختمان</td>\n",
       "      <td>C</td>\n",
       "      <td>3</td>\n",
       "      <td>0</td>\n",
       "      <td>13972400000</td>\n",
       "      <td>637805.267723</td>\n",
       "      <td>1400/12/16 10:03</td>\n",
       "      <td>2022-03-08</td>\n",
       "      <td>CU00083</td>\n",
       "      <td>11</td>\n",
       "      <td>21907</td>\n",
       "    </tr>\n",
       "    <tr>\n",
       "      <th>4</th>\n",
       "      <td>1004480</td>\n",
       "      <td>R.S.102005</td>\n",
       "      <td>1</td>\n",
       "      <td>ساختمان</td>\n",
       "      <td>B</td>\n",
       "      <td>1</td>\n",
       "      <td>0</td>\n",
       "      <td>11947100000</td>\n",
       "      <td>460726.543519</td>\n",
       "      <td>1400/12/14 09:34</td>\n",
       "      <td>2022-03-09</td>\n",
       "      <td>CU00001</td>\n",
       "      <td>13</td>\n",
       "      <td>25931</td>\n",
       "    </tr>\n",
       "  </tbody>\n",
       "</table>\n",
       "</div>"
      ],
      "text/plain": [
       "   Transaction_ID  Product_ID  Export Industry City_Category Stay_In_Customer  \\\n",
       "0         1003590  R.S.102001       0      جوش             A                1   \n",
       "1         1005621  R.S.102002       1     تراش             A                1   \n",
       "2         1001950  R.S.102003       1      پرچ             C                1   \n",
       "3         1001724  R.S.102004       1  ساختمان             C                3   \n",
       "4         1004480  R.S.102005       1  ساختمان             B                1   \n",
       "\n",
       "   Material_Status      Payment     Unit_Price    Save_Date_Time  Send_Date  \\\n",
       "0                0   2838150000  109437.418061  1400/12/23 08:47 2022-03-16   \n",
       "1                0  16065000000  619313.801079  1400/12/21 10:10 2022-03-12   \n",
       "2                0  17228900000  664080.326858  1400/12/16 15:02 2022-03-08   \n",
       "3                0  13972400000  637805.267723  1400/12/16 10:03 2022-03-08   \n",
       "4                0  11947100000  460726.543519  1400/12/14 09:34 2022-03-09   \n",
       "\n",
       "  Customer_ID  Bandel  real_weight  \n",
       "0     CU00047      13        25934  \n",
       "1     CU00079      13        25940  \n",
       "2     CU00031      13        25944  \n",
       "3     CU00083      11        21907  \n",
       "4     CU00001      13        25931  "
      ]
     },
     "execution_count": 2,
     "metadata": {},
     "output_type": "execute_result"
    }
   ],
   "source": [
    "Transaction = pd.read_excel(\"/kaggle/input/steel-data/Steel.xlsx\", sheet_name=\"Transaction\")\n",
    "Transaction.head()"
   ]
  },
  {
   "cell_type": "markdown",
   "id": "28ccb247",
   "metadata": {
    "id": "RDnzjlXcMyAM",
    "papermill": {
     "duration": 0.006075,
     "end_time": "2024-12-21T11:33:38.902768",
     "exception": false,
     "start_time": "2024-12-21T11:33:38.896693",
     "status": "completed"
    },
    "tags": []
   },
   "source": [
    "<p dir=\"ltr\" style=\"text-align: justify; line-height: 200%; font-family: Arial; font-size: medium\">\n",
    "<font face=\"Arial\" size=\"3\">\n",
    "The **Customers** sheet contains six columns as described below:\n",
    "</font>\n",
    "</p>\n",
    "\n",
    "<ul>\n",
    "<center>\n",
    "<p dir=\"ltr\" style=\"text-align: justify; line-height: 200%; font-family: Arial; font-size: medium\">\n",
    "<font face=\"Arial\" size=\"3\">\n",
    "\n",
    "| Column Name        | Description                                                                 |\n",
    "|:------------------:|:---------------------------------------------------------------------------:|\n",
    "| Customer_ID        | Transaction identifier                                                     |\n",
    "| Province           | Name of the province                                                      |\n",
    "| City_Category      | Location category relative to the province of the customer's head office   |\n",
    "| Stay_In_Customer   | Number of days the customer's order stayed at the factory                  |\n",
    "| Export/Import      | Indicates whether the product is for export or domestic consumption        |\n",
    "| Industry_Cod       | Industry code                                                             |\n",
    "\n",
    "</ul>\n",
    "\n",
    "<p dir=\"ltr\" style=\"text-align: justify; line-height: 200%; font-family: Arial; font-size: medium\">\n",
    "<font face=\"Arial\" size=\"3\">\n",
    "In this table, the **Industry_Cod** provides a more detailed classification of industries:  \n",
    "- Codes 0 to 4 represent the **construction** industry.  \n",
    "- Codes 5 to 9 represent the **machining** industry.  \n",
    "- Codes 10 to 13 represent the **riveting** industry.  \n",
    "- Codes 14 to 17 represent the **drawing** industry.  \n",
    "- Codes 18 to 20 represent the **welding** industry.  \n",
    "</font>\n",
    "</p>\n"
   ]
  },
  {
   "cell_type": "code",
   "execution_count": 3,
   "id": "e08fc45b",
   "metadata": {
    "execution": {
     "iopub.execute_input": "2024-12-21T11:33:38.916969Z",
     "iopub.status.busy": "2024-12-21T11:33:38.916598Z",
     "iopub.status.idle": "2024-12-21T11:33:39.614927Z",
     "shell.execute_reply": "2024-12-21T11:33:39.613712Z"
    },
    "id": "l1R7cOSJTrn4",
    "papermill": {
     "duration": 0.707687,
     "end_time": "2024-12-21T11:33:39.616655",
     "exception": false,
     "start_time": "2024-12-21T11:33:38.908968",
     "status": "completed"
    },
    "tags": []
   },
   "outputs": [
    {
     "data": {
      "text/html": [
       "<div>\n",
       "<style scoped>\n",
       "    .dataframe tbody tr th:only-of-type {\n",
       "        vertical-align: middle;\n",
       "    }\n",
       "\n",
       "    .dataframe tbody tr th {\n",
       "        vertical-align: top;\n",
       "    }\n",
       "\n",
       "    .dataframe thead th {\n",
       "        text-align: right;\n",
       "    }\n",
       "</style>\n",
       "<table border=\"1\" class=\"dataframe\">\n",
       "  <thead>\n",
       "    <tr style=\"text-align: right;\">\n",
       "      <th></th>\n",
       "      <th>Customer_ID</th>\n",
       "      <th>Province</th>\n",
       "      <th>City_Category</th>\n",
       "      <th>Stay_In_Customer</th>\n",
       "      <th>Export/Import</th>\n",
       "      <th>Industry_Cod</th>\n",
       "    </tr>\n",
       "  </thead>\n",
       "  <tbody>\n",
       "    <tr>\n",
       "      <th>0</th>\n",
       "      <td>CU00047</td>\n",
       "      <td>تهران</td>\n",
       "      <td>A</td>\n",
       "      <td>1</td>\n",
       "      <td>0</td>\n",
       "      <td>15</td>\n",
       "    </tr>\n",
       "    <tr>\n",
       "      <th>1</th>\n",
       "      <td>CU00079</td>\n",
       "      <td>تهران</td>\n",
       "      <td>A</td>\n",
       "      <td>1</td>\n",
       "      <td>1</td>\n",
       "      <td>7</td>\n",
       "    </tr>\n",
       "    <tr>\n",
       "      <th>2</th>\n",
       "      <td>CU00163</td>\n",
       "      <td>تهران</td>\n",
       "      <td>A</td>\n",
       "      <td>0</td>\n",
       "      <td>1</td>\n",
       "      <td>10</td>\n",
       "    </tr>\n",
       "    <tr>\n",
       "      <th>3</th>\n",
       "      <td>CU00051</td>\n",
       "      <td>تهران</td>\n",
       "      <td>A</td>\n",
       "      <td>1</td>\n",
       "      <td>0</td>\n",
       "      <td>20</td>\n",
       "    </tr>\n",
       "    <tr>\n",
       "      <th>4</th>\n",
       "      <td>CU00057</td>\n",
       "      <td>تهران</td>\n",
       "      <td>A</td>\n",
       "      <td>0</td>\n",
       "      <td>1</td>\n",
       "      <td>4</td>\n",
       "    </tr>\n",
       "  </tbody>\n",
       "</table>\n",
       "</div>"
      ],
      "text/plain": [
       "  Customer_ID Province City_Category Stay_In_Customer  Export/Import  \\\n",
       "0     CU00047    تهران             A                1              0   \n",
       "1     CU00079    تهران             A                1              1   \n",
       "2     CU00163    تهران             A                0              1   \n",
       "3     CU00051    تهران             A                1              0   \n",
       "4     CU00057    تهران             A                0              1   \n",
       "\n",
       "   Industry_Cod  \n",
       "0            15  \n",
       "1             7  \n",
       "2            10  \n",
       "3            20  \n",
       "4             4  "
      ]
     },
     "execution_count": 3,
     "metadata": {},
     "output_type": "execute_result"
    }
   ],
   "source": [
    "Customer = pd.read_excel(\"/kaggle/input/steel-data/Steel.xlsx\", sheet_name=\"Customer\")\n",
    "Customer.head()"
   ]
  },
  {
   "cell_type": "markdown",
   "id": "6b6c5d96",
   "metadata": {
    "id": "RaWlzhjWS-Yg",
    "papermill": {
     "duration": 0.006751,
     "end_time": "2024-12-21T11:33:39.630517",
     "exception": false,
     "start_time": "2024-12-21T11:33:39.623766",
     "status": "completed"
    },
    "tags": []
   },
   "source": [
    "<p dir=\"ltr\" style=\"text-align: justify; line-height: 200%; font-family: Arial; font-size: medium\">\n",
    "<font face=\"Arial\" size=\"3\">\n",
    "The **Dimdate** table is a helper table that can be used to convert Gregorian dates to Persian (Solar Hijri) dates and vice versa. This table includes comprehensive calendar information such as:  \n",
    "- Day  \n",
    "- Month  \n",
    "- Year  \n",
    "- Month name  \n",
    "- Day of the week  \n",
    "- Week number of the year, etc., covering the years from 1320 to 1429 in the Persian calendar.  \n",
    "</font>\n",
    "</p>\n"
   ]
  },
  {
   "cell_type": "code",
   "execution_count": 4,
   "id": "e4a4dd46",
   "metadata": {
    "execution": {
     "iopub.execute_input": "2024-12-21T11:33:39.645832Z",
     "iopub.status.busy": "2024-12-21T11:33:39.645446Z",
     "iopub.status.idle": "2024-12-21T11:33:51.758337Z",
     "shell.execute_reply": "2024-12-21T11:33:51.757101Z"
    },
    "id": "Cl2SfrPyTrn4",
    "papermill": {
     "duration": 12.122863,
     "end_time": "2024-12-21T11:33:51.760452",
     "exception": false,
     "start_time": "2024-12-21T11:33:39.637589",
     "status": "completed"
    },
    "tags": []
   },
   "outputs": [
    {
     "data": {
      "text/html": [
       "<div>\n",
       "<style scoped>\n",
       "    .dataframe tbody tr th:only-of-type {\n",
       "        vertical-align: middle;\n",
       "    }\n",
       "\n",
       "    .dataframe tbody tr th {\n",
       "        vertical-align: top;\n",
       "    }\n",
       "\n",
       "    .dataframe thead th {\n",
       "        text-align: right;\n",
       "    }\n",
       "</style>\n",
       "<table border=\"1\" class=\"dataframe\">\n",
       "  <thead>\n",
       "    <tr style=\"text-align: right;\">\n",
       "      <th></th>\n",
       "      <th>Miladi</th>\n",
       "      <th>Jalali_1</th>\n",
       "      <th>Jalali_2</th>\n",
       "      <th>Jalali_3</th>\n",
       "      <th>Jalali_4</th>\n",
       "      <th>Miladi.1</th>\n",
       "      <th>jyear</th>\n",
       "      <th>mmonthN</th>\n",
       "      <th>jmonthN</th>\n",
       "      <th>mmonthT</th>\n",
       "      <th>...</th>\n",
       "      <th>mnime</th>\n",
       "      <th>jnime</th>\n",
       "      <th>JquarterN</th>\n",
       "      <th>JQuarterT</th>\n",
       "      <th>MquarterN</th>\n",
       "      <th>JWeekDay</th>\n",
       "      <th>MWeekDay</th>\n",
       "      <th>MWeekNum</th>\n",
       "      <th>JWeekNum</th>\n",
       "      <th>تعطیل/غیرتعطیل</th>\n",
       "    </tr>\n",
       "  </thead>\n",
       "  <tbody>\n",
       "    <tr>\n",
       "      <th>0</th>\n",
       "      <td>1941-03-21</td>\n",
       "      <td>1320/01/01</td>\n",
       "      <td>1320/1/1</td>\n",
       "      <td>20/1/1</td>\n",
       "      <td>1320.01.1</td>\n",
       "      <td>1941-03-21</td>\n",
       "      <td>1320</td>\n",
       "      <td>3</td>\n",
       "      <td>1</td>\n",
       "      <td>March</td>\n",
       "      <td>...</td>\n",
       "      <td>First Half of Year</td>\n",
       "      <td>نیمه اول سال</td>\n",
       "      <td>1</td>\n",
       "      <td>بهار</td>\n",
       "      <td>1</td>\n",
       "      <td>جمعه</td>\n",
       "      <td>Friday</td>\n",
       "      <td>12</td>\n",
       "      <td>1</td>\n",
       "      <td>NaN</td>\n",
       "    </tr>\n",
       "    <tr>\n",
       "      <th>1</th>\n",
       "      <td>1941-03-22</td>\n",
       "      <td>1320/01/02</td>\n",
       "      <td>1320/1/2</td>\n",
       "      <td>20/1/2</td>\n",
       "      <td>1320.01.2</td>\n",
       "      <td>1941-03-22</td>\n",
       "      <td>1320</td>\n",
       "      <td>3</td>\n",
       "      <td>1</td>\n",
       "      <td>March</td>\n",
       "      <td>...</td>\n",
       "      <td>First Half of Year</td>\n",
       "      <td>نیمه اول سال</td>\n",
       "      <td>1</td>\n",
       "      <td>بهار</td>\n",
       "      <td>1</td>\n",
       "      <td>شنبه</td>\n",
       "      <td>Saturday</td>\n",
       "      <td>12</td>\n",
       "      <td>2</td>\n",
       "      <td>NaN</td>\n",
       "    </tr>\n",
       "    <tr>\n",
       "      <th>2</th>\n",
       "      <td>1941-03-23</td>\n",
       "      <td>1320/01/03</td>\n",
       "      <td>1320/1/3</td>\n",
       "      <td>20/1/3</td>\n",
       "      <td>1320.01.3</td>\n",
       "      <td>1941-03-23</td>\n",
       "      <td>1320</td>\n",
       "      <td>3</td>\n",
       "      <td>1</td>\n",
       "      <td>March</td>\n",
       "      <td>...</td>\n",
       "      <td>First Half of Year</td>\n",
       "      <td>نیمه اول سال</td>\n",
       "      <td>1</td>\n",
       "      <td>بهار</td>\n",
       "      <td>1</td>\n",
       "      <td>یکشنبه</td>\n",
       "      <td>Sunday</td>\n",
       "      <td>13</td>\n",
       "      <td>2</td>\n",
       "      <td>NaN</td>\n",
       "    </tr>\n",
       "    <tr>\n",
       "      <th>3</th>\n",
       "      <td>1941-03-24</td>\n",
       "      <td>1320/01/04</td>\n",
       "      <td>1320/1/4</td>\n",
       "      <td>20/1/4</td>\n",
       "      <td>1320.01.4</td>\n",
       "      <td>1941-03-24</td>\n",
       "      <td>1320</td>\n",
       "      <td>3</td>\n",
       "      <td>1</td>\n",
       "      <td>March</td>\n",
       "      <td>...</td>\n",
       "      <td>First Half of Year</td>\n",
       "      <td>نیمه اول سال</td>\n",
       "      <td>1</td>\n",
       "      <td>بهار</td>\n",
       "      <td>1</td>\n",
       "      <td>دوشنبه</td>\n",
       "      <td>Monday</td>\n",
       "      <td>13</td>\n",
       "      <td>2</td>\n",
       "      <td>NaN</td>\n",
       "    </tr>\n",
       "    <tr>\n",
       "      <th>4</th>\n",
       "      <td>1941-03-25</td>\n",
       "      <td>1320/01/05</td>\n",
       "      <td>1320/1/5</td>\n",
       "      <td>20/1/5</td>\n",
       "      <td>1320.01.5</td>\n",
       "      <td>1941-03-25</td>\n",
       "      <td>1320</td>\n",
       "      <td>3</td>\n",
       "      <td>1</td>\n",
       "      <td>March</td>\n",
       "      <td>...</td>\n",
       "      <td>First Half of Year</td>\n",
       "      <td>نیمه اول سال</td>\n",
       "      <td>1</td>\n",
       "      <td>بهار</td>\n",
       "      <td>1</td>\n",
       "      <td>سه شنبه</td>\n",
       "      <td>Tuesday</td>\n",
       "      <td>13</td>\n",
       "      <td>2</td>\n",
       "      <td>NaN</td>\n",
       "    </tr>\n",
       "  </tbody>\n",
       "</table>\n",
       "<p>5 rows × 21 columns</p>\n",
       "</div>"
      ],
      "text/plain": [
       "      Miladi    Jalali_1  Jalali_2 Jalali_3   Jalali_4   Miladi.1  jyear  \\\n",
       "0 1941-03-21  1320/01/01  1320/1/1   20/1/1  1320.01.1 1941-03-21   1320   \n",
       "1 1941-03-22  1320/01/02  1320/1/2   20/1/2  1320.01.2 1941-03-22   1320   \n",
       "2 1941-03-23  1320/01/03  1320/1/3   20/1/3  1320.01.3 1941-03-23   1320   \n",
       "3 1941-03-24  1320/01/04  1320/1/4   20/1/4  1320.01.4 1941-03-24   1320   \n",
       "4 1941-03-25  1320/01/05  1320/1/5   20/1/5  1320.01.5 1941-03-25   1320   \n",
       "\n",
       "   mmonthN  jmonthN mmonthT  ...               mnime         jnime JquarterN  \\\n",
       "0        3        1   March  ...  First Half of Year  نیمه اول سال         1   \n",
       "1        3        1   March  ...  First Half of Year  نیمه اول سال         1   \n",
       "2        3        1   March  ...  First Half of Year  نیمه اول سال         1   \n",
       "3        3        1   March  ...  First Half of Year  نیمه اول سال         1   \n",
       "4        3        1   March  ...  First Half of Year  نیمه اول سال         1   \n",
       "\n",
       "   JQuarterT MquarterN  JWeekDay  MWeekDay MWeekNum  JWeekNum  تعطیل/غیرتعطیل  \n",
       "0       بهار         1      جمعه    Friday       12         1             NaN  \n",
       "1       بهار         1      شنبه  Saturday       12         2             NaN  \n",
       "2       بهار         1    یکشنبه    Sunday       13         2             NaN  \n",
       "3       بهار         1    دوشنبه    Monday       13         2             NaN  \n",
       "4       بهار         1   سه شنبه   Tuesday       13         2             NaN  \n",
       "\n",
       "[5 rows x 21 columns]"
      ]
     },
     "execution_count": 4,
     "metadata": {},
     "output_type": "execute_result"
    }
   ],
   "source": [
    "dates = pd.read_excel(\"/kaggle/input/dimdate/Dimdate.xlsx\")\n",
    "dates.head()"
   ]
  },
  {
   "cell_type": "markdown",
   "id": "dec923d3",
   "metadata": {
    "id": "Jv44TabXUMf3",
    "papermill": {
     "duration": 0.007568,
     "end_time": "2024-12-21T11:33:51.775538",
     "exception": false,
     "start_time": "2024-12-21T11:33:51.767970",
     "status": "completed"
    },
    "tags": []
   },
   "source": [
    "<p dir=\"ltr\" style=\"text-align: justify; line-height: 200%; font-family: Arial; font-size: medium\">\n",
    "<font face=\"Arial\" size=\"3\">\n",
    "Before merging the **Transaction** and **Customer** dataframes, decisions need to be made regarding each column.  \n",
    "In the final dataframe, we only want to retain the following columns:  \n",
    "\n",
    "- **Transaction_ID**  \n",
    "- **Export**  \n",
    "- **Industry**  \n",
    "- **City_Category**  \n",
    "- **Payment**  \n",
    "- **Customer_ID**  \n",
    "- **Bandel**  \n",
    "- **Real_Weight**  \n",
    "- **Province**  \n",
    "- **Industry_Cod**  \n",
    "- **Waste**  \n",
    "- **Year**  \n",
    "- **Month**  \n",
    "- **Type**  \n",
    "- **Class**  \n",
    "\n",
    "<p style=\"line-height: 200%;\">\n",
    "Add a new column for waste to the dataframe as described earlier. Name the column exactly **Waste**.  \n",
    "</p>\n",
    "<p style=\"line-height: 200%;\">\n",
    "Also, convert the **Bandel** column to kilograms and save it in the same column.  \n",
    "</p>\n",
    "<p style=\"line-height: 200%;\">\n",
    "The **Year** and **Month** columns should be in the Gregorian format. To calculate these values:  \n",
    "- Add a new column named **Miladi** to the dataframe by converting the Persian dates in the **Save_Date_Time** column to their Gregorian equivalents.  \n",
    "- Extract the year and month from the **Miladi** column and store them in the **Year** and **Month** columns, respectively.  \n",
    "- Finally, delete the **Miladi** column after extraction.  \n",
    "</p>\n",
    "<p style=\"line-height: 200%;\">\n",
    "Split the **Product_ID** column into three separate columns using the dot (`.`) as a delimiter:  \n",
    "- Name the first column **Type**.  \n",
    "- Name the second column **Class**.  \n",
    "- Discard the third column.  \n",
    "</p>\n",
    "<p style=\"line-height: 200%;\">\n",
    "Scale the **Payment** column, which is currently in rials, to billions of tomans.  \n",
    "</p>\n",
    "</font>\n",
    "</p>\n"
   ]
  },
  {
   "cell_type": "code",
   "execution_count": 5,
   "id": "895da3c0",
   "metadata": {
    "execution": {
     "iopub.execute_input": "2024-12-21T11:33:51.791407Z",
     "iopub.status.busy": "2024-12-21T11:33:51.790957Z",
     "iopub.status.idle": "2024-12-21T11:33:56.081464Z",
     "shell.execute_reply": "2024-12-21T11:33:56.080119Z"
    },
    "id": "knY0hAu9Trn7",
    "outputId": "3b66f198-0231-4af7-b231-e980b49bbc31",
    "papermill": {
     "duration": 4.300646,
     "end_time": "2024-12-21T11:33:56.083354",
     "exception": false,
     "start_time": "2024-12-21T11:33:51.782708",
     "status": "completed"
    },
    "tags": []
   },
   "outputs": [
    {
     "data": {
      "text/html": [
       "<div>\n",
       "<style scoped>\n",
       "    .dataframe tbody tr th:only-of-type {\n",
       "        vertical-align: middle;\n",
       "    }\n",
       "\n",
       "    .dataframe tbody tr th {\n",
       "        vertical-align: top;\n",
       "    }\n",
       "\n",
       "    .dataframe thead th {\n",
       "        text-align: right;\n",
       "    }\n",
       "</style>\n",
       "<table border=\"1\" class=\"dataframe\">\n",
       "  <thead>\n",
       "    <tr style=\"text-align: right;\">\n",
       "      <th></th>\n",
       "      <th>Transaction_ID</th>\n",
       "      <th>Export</th>\n",
       "      <th>Industry</th>\n",
       "      <th>City_Category</th>\n",
       "      <th>Payment</th>\n",
       "      <th>Customer_ID</th>\n",
       "      <th>Save_Date_Time</th>\n",
       "      <th>Bandel</th>\n",
       "      <th>real_weight</th>\n",
       "      <th>Province</th>\n",
       "      <th>Industry_Cod</th>\n",
       "      <th>Waste</th>\n",
       "      <th>Year</th>\n",
       "      <th>Month</th>\n",
       "      <th>Type</th>\n",
       "      <th>Class</th>\n",
       "    </tr>\n",
       "  </thead>\n",
       "  <tbody>\n",
       "    <tr>\n",
       "      <th>0</th>\n",
       "      <td>1003590</td>\n",
       "      <td>0</td>\n",
       "      <td>جوش</td>\n",
       "      <td>A</td>\n",
       "      <td>0.283815</td>\n",
       "      <td>CU00047</td>\n",
       "      <td>1400/12/23 08:47</td>\n",
       "      <td>26000</td>\n",
       "      <td>25934</td>\n",
       "      <td>تهران</td>\n",
       "      <td>15</td>\n",
       "      <td>66</td>\n",
       "      <td>2022</td>\n",
       "      <td>3</td>\n",
       "      <td>R</td>\n",
       "      <td>S</td>\n",
       "    </tr>\n",
       "    <tr>\n",
       "      <th>1</th>\n",
       "      <td>1005621</td>\n",
       "      <td>1</td>\n",
       "      <td>تراش</td>\n",
       "      <td>A</td>\n",
       "      <td>1.606500</td>\n",
       "      <td>CU00079</td>\n",
       "      <td>1400/12/21 10:10</td>\n",
       "      <td>26000</td>\n",
       "      <td>25940</td>\n",
       "      <td>تهران</td>\n",
       "      <td>7</td>\n",
       "      <td>60</td>\n",
       "      <td>2022</td>\n",
       "      <td>3</td>\n",
       "      <td>R</td>\n",
       "      <td>S</td>\n",
       "    </tr>\n",
       "    <tr>\n",
       "      <th>2</th>\n",
       "      <td>1001950</td>\n",
       "      <td>1</td>\n",
       "      <td>پرچ</td>\n",
       "      <td>C</td>\n",
       "      <td>1.722890</td>\n",
       "      <td>CU00031</td>\n",
       "      <td>1400/12/16 15:02</td>\n",
       "      <td>26000</td>\n",
       "      <td>25944</td>\n",
       "      <td>آذربایجان شرقی</td>\n",
       "      <td>12</td>\n",
       "      <td>56</td>\n",
       "      <td>2022</td>\n",
       "      <td>3</td>\n",
       "      <td>R</td>\n",
       "      <td>S</td>\n",
       "    </tr>\n",
       "    <tr>\n",
       "      <th>3</th>\n",
       "      <td>1001724</td>\n",
       "      <td>1</td>\n",
       "      <td>ساختمان</td>\n",
       "      <td>C</td>\n",
       "      <td>1.397240</td>\n",
       "      <td>CU00083</td>\n",
       "      <td>1400/12/16 10:03</td>\n",
       "      <td>22000</td>\n",
       "      <td>21907</td>\n",
       "      <td>آذربایجان شرقی</td>\n",
       "      <td>4</td>\n",
       "      <td>93</td>\n",
       "      <td>2022</td>\n",
       "      <td>3</td>\n",
       "      <td>R</td>\n",
       "      <td>S</td>\n",
       "    </tr>\n",
       "    <tr>\n",
       "      <th>4</th>\n",
       "      <td>1004480</td>\n",
       "      <td>1</td>\n",
       "      <td>ساختمان</td>\n",
       "      <td>B</td>\n",
       "      <td>1.194710</td>\n",
       "      <td>CU00001</td>\n",
       "      <td>1400/12/14 09:34</td>\n",
       "      <td>26000</td>\n",
       "      <td>25931</td>\n",
       "      <td>اصفهان</td>\n",
       "      <td>0</td>\n",
       "      <td>69</td>\n",
       "      <td>2022</td>\n",
       "      <td>3</td>\n",
       "      <td>R</td>\n",
       "      <td>S</td>\n",
       "    </tr>\n",
       "  </tbody>\n",
       "</table>\n",
       "</div>"
      ],
      "text/plain": [
       "   Transaction_ID  Export Industry City_Category   Payment Customer_ID  \\\n",
       "0         1003590       0      جوش             A  0.283815     CU00047   \n",
       "1         1005621       1     تراش             A  1.606500     CU00079   \n",
       "2         1001950       1      پرچ             C  1.722890     CU00031   \n",
       "3         1001724       1  ساختمان             C  1.397240     CU00083   \n",
       "4         1004480       1  ساختمان             B  1.194710     CU00001   \n",
       "\n",
       "     Save_Date_Time  Bandel  real_weight        Province  Industry_Cod  Waste  \\\n",
       "0  1400/12/23 08:47   26000        25934           تهران            15     66   \n",
       "1  1400/12/21 10:10   26000        25940           تهران             7     60   \n",
       "2  1400/12/16 15:02   26000        25944  آذربایجان شرقی            12     56   \n",
       "3  1400/12/16 10:03   22000        21907  آذربایجان شرقی             4     93   \n",
       "4  1400/12/14 09:34   26000        25931          اصفهان             0     69   \n",
       "\n",
       "   Year  Month Type Class  \n",
       "0  2022      3    R     S  \n",
       "1  2022      3    R     S  \n",
       "2  2022      3    R     S  \n",
       "3  2022      3    R     S  \n",
       "4  2022      3    R     S  "
      ]
     },
     "execution_count": 5,
     "metadata": {},
     "output_type": "execute_result"
    }
   ],
   "source": [
    "df = Transaction[['Transaction_ID', 'Product_ID', 'Export', 'Industry', 'City_Category', \n",
    "                       'Payment', 'Customer_ID', 'Save_Date_Time', 'Bandel', 'real_weight']].copy()\n",
    "\n",
    "# Pivot\n",
    "df = df.merge(Customer[['Customer_ID', 'Province', 'Industry_Cod']], \n",
    "              on='Customer_ID', \n",
    "              how='left')\n",
    "\n",
    "# Unit Transforms\n",
    "df['Payment'] = df['Payment'] * 10 ** -10\n",
    "df['Bandel'] = df['Bandel'] * 2 * 10**3\n",
    "df['Waste'] = df['Bandel'] - df['real_weight']\n",
    "\n",
    "# ّFor Year and Month\n",
    "df['Jalali_1'] = df['Save_Date_Time'].str.split(' ').str[0]\n",
    "df = df.merge(dates[['Jalali_1', 'Miladi']], on='Jalali_1', how='left')\n",
    "df['Year'] = pd.to_datetime(df['Miladi']).dt.year\n",
    "df['Month'] = pd.to_datetime(df['Miladi']).dt.month\n",
    "df.drop(columns=['Miladi'], inplace=True)\n",
    "df.drop(columns=['Jalali_1'], inplace=True)\n",
    "\n",
    "#Defining Class and Type\n",
    "df['Type'] = df['Product_ID'].str.split('.').str[0]  \n",
    "df['Class'] = df['Product_ID'].str.split('.').str[1]  \n",
    "del df['Product_ID']\n",
    "\n",
    "df.head()"
   ]
  },
  {
   "cell_type": "markdown",
   "id": "20495bab",
   "metadata": {
    "id": "e0yCGyx4H_GH",
    "papermill": {
     "duration": 0.007195,
     "end_time": "2024-12-21T11:33:56.098393",
     "exception": false,
     "start_time": "2024-12-21T11:33:56.091198",
     "status": "completed"
    },
    "tags": []
   },
   "source": [
    "<p dir=\"ltr\" style=\"text-align: justify; line-height: 200%; font-family: Arial; font-size: medium\">\n",
    "<font face=\"Arial\" size=\"3\">\n",
    "Now that we have clean and standardized data, we would like you to answer the following questions.\n",
    "</font>\n",
    "</p>\n"
   ]
  },
  {
   "cell_type": "markdown",
   "id": "2431c07b",
   "metadata": {
    "id": "obhRGqx1INQg",
    "papermill": {
     "duration": 0.00747,
     "end_time": "2024-12-21T11:33:56.113841",
     "exception": false,
     "start_time": "2024-12-21T11:33:56.106371",
     "status": "completed"
    },
    "tags": []
   },
   "source": [
    "<p dir=\"ltr\" style=\"text-align: justify; line-height: 200%; font-family: Arial; font-size: medium\">\n",
    "<font face=\"Arial\" size=\"3\">\n",
    "We want to determine the sales amount for imports and exports for each year and each month of that year.  \n",
    "Ensure that the **Year** and **Month** columns are set as the index of the dataframe.\n",
    "</font>\n",
    "</p>\n"
   ]
  },
  {
   "cell_type": "code",
   "execution_count": 6,
   "id": "5df33c8b",
   "metadata": {
    "execution": {
     "iopub.execute_input": "2024-12-21T11:33:56.130736Z",
     "iopub.status.busy": "2024-12-21T11:33:56.130348Z",
     "iopub.status.idle": "2024-12-21T11:33:56.179412Z",
     "shell.execute_reply": "2024-12-21T11:33:56.178070Z"
    },
    "id": "fx3KRzGlTrn8",
    "outputId": "203392a6-3862-4415-a1cd-8f9d382bf10a",
    "papermill": {
     "duration": 0.059837,
     "end_time": "2024-12-21T11:33:56.181329",
     "exception": false,
     "start_time": "2024-12-21T11:33:56.121492",
     "status": "completed"
    },
    "tags": []
   },
   "outputs": [
    {
     "name": "stdout",
     "output_type": "stream",
     "text": [
      "Export      Import_Sales  Export_Sales\n",
      "Year Month                            \n",
      "2019 3         112.62353     388.40085\n",
      "     4        3877.70945   12906.48373\n",
      "     5        4336.27345   14330.60550\n",
      "     6        3414.72087   11443.02170\n",
      "     7        5029.53574   15807.34280\n"
     ]
    }
   ],
   "source": [
    "Sales = (\n",
    "    df.groupby(['Year', 'Month', 'Export'])['Payment']\n",
    "    .sum()\n",
    "    .unstack('Export')  \n",
    "    .rename(columns={0: 'Import_Sales', 1: 'Export_Sales'})  \n",
    "    \n",
    ")\n",
    "\n",
    "# Idnetifing the indexes\n",
    "Sales.index.names = ['Year', 'Month']\n",
    "\n",
    "#Print\n",
    "print(Sales.head())\n"
   ]
  },
  {
   "cell_type": "markdown",
   "id": "dfe1f0e6",
   "metadata": {
    "id": "MlvNixWXJpj2",
    "papermill": {
     "duration": 0.00752,
     "end_time": "2024-12-21T11:33:56.196632",
     "exception": false,
     "start_time": "2024-12-21T11:33:56.189112",
     "status": "completed"
    },
    "tags": []
   },
   "source": [
    "<p dir=\"ltr\" style=\"text-align: justify; line-height: 200%; font-family: Arial; font-size: medium\">\n",
    "<font face=\"Arial\" size=\"3\">\n",
    "We need the top ten customers with the highest purchase volume, including the number of purchases and the total production waste for each.  \n",
    "This table should be sorted in descending order based on the total sales amount.\n",
    "</font>\n",
    "</p>\n"
   ]
  },
  {
   "cell_type": "code",
   "execution_count": 7,
   "id": "98fd61cf",
   "metadata": {
    "execution": {
     "iopub.execute_input": "2024-12-21T11:33:56.212468Z",
     "iopub.status.busy": "2024-12-21T11:33:56.212134Z",
     "iopub.status.idle": "2024-12-21T11:33:56.269583Z",
     "shell.execute_reply": "2024-12-21T11:33:56.268156Z"
    },
    "id": "2LdyzyNvTrn9",
    "outputId": "b4855106-c973-4521-ac73-b8f27b8a0aa7",
    "papermill": {
     "duration": 0.067857,
     "end_time": "2024-12-21T11:33:56.271681",
     "exception": false,
     "start_time": "2024-12-21T11:33:56.203824",
     "status": "completed"
    },
    "tags": []
   },
   "outputs": [
    {
     "name": "stdout",
     "output_type": "stream",
     "text": [
      "             Total_Payment  Purchase_Count  Total_Waste\n",
      "Customer_ID                                            \n",
      "CU00023        3984.895920            3149       267497\n",
      "CU00025        3973.675250            3220       274573\n",
      "CU00033        3965.757650            3306       281501\n",
      "CU00121        3961.633390            3226       274715\n",
      "CU00042        3961.324220            3153       268965\n",
      "CU00115        3955.172240            3173       269558\n",
      "CU00006        3946.778040            3169       272183\n",
      "CU00056        3932.243960            3248       276504\n",
      "CU00119        3924.168310            3198       275012\n",
      "CU00086        3909.184615            3154       268767\n"
     ]
    }
   ],
   "source": [
    "Customers = (\n",
    "    df.groupby('Customer_ID')\n",
    "    .agg(\n",
    "        Total_Payment=('Payment', 'sum'),  \n",
    "        Purchase_Count=('Transaction_ID', 'count'), \n",
    "        Total_Waste=('Waste', 'sum')            \n",
    "    )\n",
    "    .sort_values(by='Total_Payment', ascending=False)  \n",
    "    .head(10)  \n",
    ")\n",
    "\n",
    "print(Customers)\n"
   ]
  },
  {
   "cell_type": "markdown",
   "id": "048ab07f",
   "metadata": {
    "id": "4Wf6l_yCKTX-",
    "papermill": {
     "duration": 0.006985,
     "end_time": "2024-12-21T11:33:56.286253",
     "exception": false,
     "start_time": "2024-12-21T11:33:56.279268",
     "status": "completed"
    },
    "tags": []
   },
   "source": [
    "<p dir=\"ltr\" style=\"text-align: justify; line-height: 200%; font-family: Arial; font-size: medium\">\n",
    "<font face=\"Arial\" size=\"3\">\n",
    "We want to determine the sales amount, the production waste, and the number of sales for each industry (machining, welding, construction, riveting, and drawing) in each **Type** and **Class** subcategory.\n",
    "</font>\n",
    "</p>"
   ]
  },
  {
   "cell_type": "code",
   "execution_count": 8,
   "id": "b62a6564",
   "metadata": {
    "execution": {
     "iopub.execute_input": "2024-12-21T11:33:56.302608Z",
     "iopub.status.busy": "2024-12-21T11:33:56.302282Z",
     "iopub.status.idle": "2024-12-21T11:33:56.431483Z",
     "shell.execute_reply": "2024-12-21T11:33:56.430115Z"
    },
    "id": "55tnrBqoTrn9",
    "outputId": "168af5ac-7b29-4838-e6e6-895d2fbc23a7",
    "papermill": {
     "duration": 0.139907,
     "end_time": "2024-12-21T11:33:56.433673",
     "exception": false,
     "start_time": "2024-12-21T11:33:56.293766",
     "status": "completed"
    },
    "tags": []
   },
   "outputs": [
    {
     "name": "stdout",
     "output_type": "stream",
     "text": [
      "   Industry Type Class    Total_Sales  Total_Waste  Sale_Count\n",
      "0      تراش    R    NS   18375.667530      1300133       15261\n",
      "1      تراش    R     S   28714.450050      2008561       23636\n",
      "2      تراش    w     S   73206.347230      5145415       60605\n",
      "3       جوش    R    NS   20466.210550      1389764       16333\n",
      "4       جوش    R     S   31045.327075      2096386       24677\n",
      "5       جوش    w     S   80128.746687      5441131       63878\n",
      "6   ساختمان    R    NS   42826.709120      3073275       36116\n",
      "7   ساختمان    R     S   64780.002982      4655752       54796\n",
      "8   ساختمان    w     S  169059.542450     12132941      142698\n",
      "9       پرچ    R    NS   12191.450060       831532        9757\n",
      "10      پرچ    R     S   18525.906770      1282743       15071\n",
      "11      پرچ    w     S   47127.900980      3285344       38595\n",
      "12      کشش    R    NS    8799.718550       643128        7576\n",
      "13      کشش    R     S   13236.022060       977759       11508\n",
      "14      کشش    w     S   34002.783365      2516497       29561\n"
     ]
    }
   ],
   "source": [
    "# Grouping by the question\n",
    "Industries = (\n",
    "    df.groupby(['Industry', 'Type', 'Class'])\n",
    "    .agg(\n",
    "        Total_Sales=('Payment', 'sum'),       \n",
    "        Total_Waste=('Waste', 'sum'),        \n",
    "        Sale_Count=('Transaction_ID', 'count') \n",
    "    )\n",
    "    .reset_index()  \n",
    ")\n",
    "\n",
    "# Displaying the final table\n",
    "print(Industries)"
   ]
  },
  {
   "cell_type": "markdown",
   "id": "33c73465",
   "metadata": {
    "id": "lL96H7hNMbBN",
    "papermill": {
     "duration": 0.007545,
     "end_time": "2024-12-21T11:33:56.449456",
     "exception": false,
     "start_time": "2024-12-21T11:33:56.441911",
     "status": "completed"
    },
    "tags": []
   },
   "source": [
    "<p dir=\"ltr\" style=\"text-align: justify; line-height: 200%; font-family: Arial; font-size: medium\">\n",
    "<font face=\"Arial\" size=\"3\">\n",
    "We want to know the total purchase amount for each province in each year. Additionally, we need the number of purchases and the total production waste for each province.\n",
    "</font>\n",
    "</p>\n"
   ]
  },
  {
   "cell_type": "code",
   "execution_count": 9,
   "id": "b9030d19",
   "metadata": {
    "execution": {
     "iopub.execute_input": "2024-12-21T11:33:56.466463Z",
     "iopub.status.busy": "2024-12-21T11:33:56.466112Z",
     "iopub.status.idle": "2024-12-21T11:33:56.539758Z",
     "shell.execute_reply": "2024-12-21T11:33:56.538365Z"
    },
    "id": "mgKI1DGETrn9",
    "outputId": "8cb0cbd6-d024-45db-c625-8c2e50b2551b",
    "papermill": {
     "duration": 0.084613,
     "end_time": "2024-12-21T11:33:56.541862",
     "exception": false,
     "start_time": "2024-12-21T11:33:56.457249",
     "status": "completed"
    },
    "tags": []
   },
   "outputs": [
    {
     "name": "stdout",
     "output_type": "stream",
     "text": [
      "                      Total_Sales  Total_Waste  Purchase_Count\n",
      "Year Province                                                 \n",
      "2019 آذربایجان شرقی   6872.733520       482517            5655\n",
      "     اردبیل           6915.076650       488813            5760\n",
      "     اصفهان          11453.073220       808842            9503\n",
      "     بندرعباس        10731.201260       761924            8959\n",
      "     تهران           39955.313490      2812958           33067\n",
      "     خراسان جنوبی    12732.774440       876003           10292\n",
      "     خوزستان          7860.298890       554990            6511\n",
      "     سمنان            9833.136930       684367            8066\n",
      "     سیستان          13739.441480       968521           11406\n",
      "     مازندران        13601.189270       950833           11226\n",
      "     مرکزی            7696.463370       547884            6429\n",
      "     همدان            4734.970100       337428            3972\n",
      "     کرمانشاه         8737.955740       621520            7271\n",
      "     گلستان           8861.614000       624562            7326\n",
      "     یزد              7490.419640       535079            6283\n",
      "2020 آذربایجان شرقی   8669.264850       602812            7085\n",
      "     اردبیل           8643.393880       613576            7239\n",
      "     اصفهان          14750.543580      1033788           12172\n",
      "     بندرعباس        13213.398620       943477           11116\n",
      "     تهران           50575.525300      3579916           42010\n",
      "     خراسان جنوبی    15840.083980      1123440           13205\n",
      "     خوزستان          9680.147020       690412            8135\n",
      "     سمنان           12424.742040       872331           10270\n",
      "     سیستان          17050.890430      1202988           14143\n",
      "     مازندران        17255.535700      1219910           14366\n",
      "     مرکزی            9852.101530       697602            8202\n",
      "     همدان            6054.923790       419774            4944\n",
      "     کرمانشاه        10894.197990       772631            9110\n",
      "     گلستان          11163.591910       783804            9224\n",
      "     یزد              9832.852490       685847            8071\n",
      "2021 آذربایجان شرقی   6756.703980       468685            5502\n",
      "     اردبیل           6656.196050       464856            5485\n",
      "     اصفهان          11146.321730       793857            9288\n",
      "     بندرعباس        10251.378420       734162            8666\n",
      "     تهران           38495.794245      2737064           32158\n",
      "     خراسان جنوبی    12277.658530       874502           10316\n",
      "     خوزستان          7595.010820       532992            6247\n",
      "     سمنان            9514.157260       669801            7888\n",
      "     سیستان          13044.709120       925614           10893\n",
      "     مازندران        13080.105050       924778           10851\n",
      "     مرکزی            7429.078040       527090            6195\n",
      "     همدان            4625.259710       329206            3885\n",
      "     کرمانشاه         8478.594160       594968            7014\n",
      "     گلستان           8494.090130       601959            7103\n",
      "     یزد              7731.409810       543547            6410\n",
      "2022 آذربایجان شرقی   4376.029620       305413            3587\n",
      "     اردبیل           4423.498554       308100            3599\n",
      "     اصفهان           7339.529705       521904            6142\n",
      "     بندرعباس         6889.744390       491854            5793\n",
      "     تهران           25992.210565      1811325           21288\n",
      "     خراسان جنوبی     7902.971560       566839            6658\n",
      "     خوزستان          5043.037760       358688            4211\n",
      "     سمنان            6283.706580       442575            5169\n",
      "     سیستان           8668.885340       623051            7319\n",
      "     مازندران         8560.180440       601875            7066\n",
      "     مرکزی            5111.689180       362216            4275\n",
      "     همدان            3057.754940       219995            2576\n",
      "     کرمانشاه         5435.208970       385835            4545\n",
      "     گلستان           5704.737210       395912            4655\n",
      "     یزد              5004.278480       363149            4266\n"
     ]
    }
   ],
   "source": [
    "Provinces = (\n",
    "    df.groupby(['Year', 'Province'])\n",
    "    .agg(\n",
    "        Total_Sales=('Payment', 'sum'),  \n",
    "        Total_Waste=('Waste', 'sum'),        \n",
    "        Purchase_Count=('Transaction_ID', 'count')  \n",
    "    )\n",
    "    \n",
    ")\n",
    "\n",
    "# Print\n",
    "print(Provinces)\n"
   ]
  },
  {
   "cell_type": "markdown",
   "id": "d0fc7546",
   "metadata": {
    "id": "tW87B5-utyqA",
    "papermill": {
     "duration": 0.007565,
     "end_time": "2024-12-21T11:33:56.557734",
     "exception": false,
     "start_time": "2024-12-21T11:33:56.550169",
     "status": "completed"
    },
    "tags": []
   },
   "source": [
    "<p dir=\"ltr\" style=\"text-align: justify; line-height: 200%; font-family: Arial; font-size: medium\">\n",
    "<font face=\"Arial\" size=\"3\">\n",
    "In the industry, rebar can be produced either as straight bars or as coils. Straight rebar is produced in straight lengths, while coil rebar is wound into rolls. The **Type** column indicates the production form:  \n",
    "- **R** represents straight bars.  \n",
    "- **W** represents coils.  \n",
    "\n",
    "We want to determine the total kilograms of products produced for each **City_Category**, categorized by the **Type** (straight or coil) and their respective **Class**.\n",
    "</font>\n",
    "</p>\n"
   ]
  },
  {
   "cell_type": "code",
   "execution_count": 10,
   "id": "e2b47f31",
   "metadata": {
    "execution": {
     "iopub.execute_input": "2024-12-21T11:33:56.575114Z",
     "iopub.status.busy": "2024-12-21T11:33:56.574715Z",
     "iopub.status.idle": "2024-12-21T11:33:56.689905Z",
     "shell.execute_reply": "2024-12-21T11:33:56.688324Z"
    },
    "id": "iBIojYV_Trn9",
    "outputId": "ef90d426-92c7-44ff-8734-e0bc559afcc8",
    "papermill": {
     "duration": 0.126552,
     "end_time": "2024-12-21T11:33:56.692216",
     "exception": false,
     "start_time": "2024-12-21T11:33:56.565664",
     "status": "completed"
    },
    "tags": []
   },
   "outputs": [
    {
     "name": "stdout",
     "output_type": "stream",
     "text": [
      "  City_Category Type Class  Total_Weight\n",
      "0             A    R    NS     551916537\n",
      "1             A    R     S     845970773\n",
      "3             B    R    NS     869707675\n",
      "4             B    R     S    1317519235\n",
      "6             C    R    NS     638447956\n",
      "7             C    R     S     978310791\n"
     ]
    }
   ],
   "source": [
    "# Grouping by City_Category, Type, and Class, and calculating total weight produced\n",
    "Rw = (\n",
    "    df.groupby(['City_Category', 'Type', 'Class'])\n",
    "    .agg(\n",
    "        Total_Weight=('real_weight', 'sum')  # Total weight produced\n",
    "    )\n",
    "    .reset_index()  # Resetting index for better display\n",
    ")\n",
    "\n",
    "# Filtering rows where Type is either R (Branch) or W (Coil)\n",
    "Rw = Rw[Rw['Type'].isin(['R', 'W'])]\n",
    "\n",
    "# Displaying the final table\n",
    "print(Rw)\n"
   ]
  },
  {
   "cell_type": "markdown",
   "id": "9bff08fe",
   "metadata": {
    "id": "TSK-6VDETrn-",
    "papermill": {
     "duration": 0.007672,
     "end_time": "2024-12-21T11:33:56.708303",
     "exception": false,
     "start_time": "2024-12-21T11:33:56.700631",
     "status": "completed"
    },
    "tags": []
   },
   "source": [
    "<p dir=\"ltr\" style=\"text-align: justify; line-height: 200%; font-family: Arial; font-size: medium\">\n",
    "<font face=\"Arial\" size=\"3\">\n",
    "As you know, quartiles are statistical terms that divide a dataset into four parts using three points. These quartiles are referred to as the first quartile, second quartile, and third quartile, commonly denoted as Q1, Q2, and Q3, respectively.  \n",
    "To determine quartiles, the data must be sorted in ascending order.  \n",
    "- **Q1** (the first quartile or lower quartile) is the value below which 25% of the observations fall.  \n",
    "- **Q2** (the second quartile) is the median, which splits the dataset into two halves, where 50% of the observations are smaller and 50% are larger.  \n",
    "- **Q3** (the third quartile or upper quartile) is the value above which 25% of the observations fall and below which 75% of the observations fall.  \n",
    "\n",
    "<p style=\"line-height: 200%;\">\n",
    "Now, we need to categorize the values in the **Price** column. This data should be divided into three categories:  \n",
    "- Prices strictly below **Q1** should be labeled as **Low**.  \n",
    "- Prices between **Q1** and **Q3** (inclusive) should be labeled as **Med**.  \n",
    "- Prices above **Q3** should be labeled as **High**.  \n",
    "\n",
    "Store these categorizations in a new column called **PriceLevel**.\n",
    "</p>\n",
    "\n",
    "<p style=\"line-height: 200%;\">\n",
    "To achieve this, define a function named **Categorize**, and use the `apply` method to apply it to the dataframe.\n",
    "</p>\n",
    "</font>\n",
    "</p>\n"
   ]
  },
  {
   "cell_type": "markdown",
   "id": "455cb5cd",
   "metadata": {
    "id": "7JVhDMaxbHYF",
    "papermill": {
     "duration": 0.007947,
     "end_time": "2024-12-21T11:33:56.724601",
     "exception": false,
     "start_time": "2024-12-21T11:33:56.716654",
     "status": "completed"
    },
    "tags": []
   },
   "source": [
    "<details dir=\"rtl\">\n",
    "<summary dir=\"rtl\">راهنمایی</summary>\n",
    "چارک اول و سوم با دستور quantile(0.25) و quantile(0.75) قابل دسترسی خواهند بود.\n",
    "</details>"
   ]
  },
  {
   "cell_type": "code",
   "execution_count": 11,
   "id": "e70f37d8",
   "metadata": {
    "execution": {
     "iopub.execute_input": "2024-12-21T11:33:56.742473Z",
     "iopub.status.busy": "2024-12-21T11:33:56.742110Z",
     "iopub.status.idle": "2024-12-21T11:33:56.767797Z",
     "shell.execute_reply": "2024-12-21T11:33:56.766494Z"
    },
    "id": "lfi1u0E9Trn-",
    "papermill": {
     "duration": 0.037389,
     "end_time": "2024-12-21T11:33:56.770173",
     "exception": false,
     "start_time": "2024-12-21T11:33:56.732784",
     "status": "completed"
    },
    "tags": []
   },
   "outputs": [],
   "source": [
    "Q1 = df['Payment'].quantile(0.25)\n",
    "Q3 = df['Payment'].quantile(0.75)\n",
    "\n",
    "def Categorize(x):\n",
    "    if x < Q1:\n",
    "        return 'Low'\n",
    "    elif Q1 <= x <= Q3:\n",
    "        return 'Med'\n",
    "    else:\n",
    "        return 'High'\n"
   ]
  },
  {
   "cell_type": "code",
   "execution_count": 12,
   "id": "d5b30826",
   "metadata": {
    "execution": {
     "iopub.execute_input": "2024-12-21T11:33:56.790880Z",
     "iopub.status.busy": "2024-12-21T11:33:56.790501Z",
     "iopub.status.idle": "2024-12-21T11:33:56.953892Z",
     "shell.execute_reply": "2024-12-21T11:33:56.952495Z"
    },
    "id": "8z3mKaH1Trn-",
    "outputId": "08e74136-7671-4559-f046-a88e6e592a8d",
    "papermill": {
     "duration": 0.176233,
     "end_time": "2024-12-21T11:33:56.956243",
     "exception": false,
     "start_time": "2024-12-21T11:33:56.780010",
     "status": "completed"
    },
    "tags": []
   },
   "outputs": [
    {
     "name": "stdout",
     "output_type": "stream",
     "text": [
      "        Transaction_ID  Export Industry City_Category   Payment Customer_ID  \\\n",
      "0              1003590       0      جوش             A  0.283815     CU00047   \n",
      "1              1005621       1     تراش             A  1.606500     CU00079   \n",
      "2              1001950       1      پرچ             C  1.722890     CU00031   \n",
      "3              1001724       1  ساختمان             C  1.397240     CU00083   \n",
      "4              1004480       1  ساختمان             B  1.194710     CU00001   \n",
      "...                ...     ...      ...           ...       ...         ...   \n",
      "550063         1002006       1  ساختمان             A  0.706640     CU00012   \n",
      "550064         1002361       1     تراش             B  1.028470     CU00160   \n",
      "550065         1003039       0  ساختمان             C  1.238940     CU00095   \n",
      "550066         1004401       1  ساختمان             A  1.409200     CU00033   \n",
      "550067         1005539       0      کشش             B  0.215280     CU00064   \n",
      "\n",
      "          Save_Date_Time  Bandel  real_weight        Province  Industry_Cod  \\\n",
      "0       1400/12/23 08:47   26000        25934           تهران            15   \n",
      "1       1400/12/21 10:10   26000        25940           تهران             7   \n",
      "2       1400/12/16 15:02   26000        25944  آذربایجان شرقی            12   \n",
      "3       1400/12/16 10:03   22000        21907  آذربایجان شرقی             4   \n",
      "4       1400/12/14 09:34   26000        25931          اصفهان             0   \n",
      "...                  ...     ...          ...             ...           ...   \n",
      "550063  1398/11/07 16:41   26000        25946           مرکزی             4   \n",
      "550064  1399/04/18 10:15   26000        25905       مازندران              9   \n",
      "550065  1398/05/12 12:01   26000        25940             یزد             4   \n",
      "550066  1398/03/12 09:46   26000        25939        بندرعباس            20   \n",
      "550067  1400/07/19 14:40   26000        25898        بندرعباس            12   \n",
      "\n",
      "        Waste  Year  Month Type Class PriceLevel  \n",
      "0          66  2022      3    R     S        Low  \n",
      "1          60  2022      3    R     S        Med  \n",
      "2          56  2022      3    R     S       High  \n",
      "3          93  2022      3    R     S        Med  \n",
      "4          69  2022      3    R     S        Med  \n",
      "...       ...   ...    ...  ...   ...        ...  \n",
      "550063     54  2020      1    w     S        Med  \n",
      "550064     95  2020      7    w     S        Med  \n",
      "550065     60  2019      8    w     S        Med  \n",
      "550066     61  2019      6    w     S        Med  \n",
      "550067    102  2021     10    w     S        Low  \n",
      "\n",
      "[550068 rows x 17 columns]\n"
     ]
    }
   ],
   "source": [
    "df['PriceLevel'] = df['Payment'].apply(Categorize)\n",
    "\n",
    "print(df)"
   ]
  },
  {
   "cell_type": "markdown",
   "id": "ce00f8e2",
   "metadata": {
    "id": "qXN2C7A3Trn-",
    "papermill": {
     "duration": 0.007931,
     "end_time": "2024-12-21T11:33:56.973476",
     "exception": false,
     "start_time": "2024-12-21T11:33:56.965545",
     "status": "completed"
    },
    "tags": []
   },
   "source": [
    "<p dir=\"ltr\" style=\"text-align: justify; line-height: 200%; font-family: Arial; font-size: medium\">\n",
    "<font face=\"Arial\" size=\"3\">\n",
    "Next, use a filter command to extract the part of the dataframe related to industrial codes with more than **50,000 sales**.  \n",
    "Store this filtered data in a variable named **Indfilter**.\n",
    "</font>\n",
    "</p>\n"
   ]
  },
  {
   "cell_type": "code",
   "execution_count": 13,
   "id": "20af5d19",
   "metadata": {
    "execution": {
     "iopub.execute_input": "2024-12-21T11:33:56.991390Z",
     "iopub.status.busy": "2024-12-21T11:33:56.990947Z",
     "iopub.status.idle": "2024-12-21T11:33:57.056105Z",
     "shell.execute_reply": "2024-12-21T11:33:57.054810Z"
    },
    "id": "8RUfKqrcTrn-",
    "outputId": "83ffbea7-90f3-43ad-a7ea-7b8d07cebb81",
    "papermill": {
     "duration": 0.076403,
     "end_time": "2024-12-21T11:33:57.058007",
     "exception": false,
     "start_time": "2024-12-21T11:33:56.981604",
     "status": "completed"
    },
    "tags": []
   },
   "outputs": [
    {
     "name": "stdout",
     "output_type": "stream",
     "text": [
      "    Transaction_ID  Export Industry City_Category  Payment Customer_ID  \\\n",
      "2          1001950       1      پرچ             C  1.72289     CU00031   \n",
      "3          1001724       1  ساختمان             C  1.39724     CU00083   \n",
      "4          1004480       1  ساختمان             B  1.19471     CU00001   \n",
      "8          1002950       1  ساختمان             C  1.90656     CU00155   \n",
      "10         1000049       1      پرچ             C  2.27001     CU00014   \n",
      "\n",
      "      Save_Date_Time  Bandel  real_weight        Province  Industry_Cod  \\\n",
      "2   1400/12/16 15:02   26000        25944  آذربایجان شرقی            12   \n",
      "3   1400/12/16 10:03   22000        21907  آذربایجان شرقی             4   \n",
      "4   1400/12/14 09:34   26000        25931          اصفهان             0   \n",
      "8   1400/12/09 11:57   26000        25929          اردبیل             0   \n",
      "10  1400/11/30 09:37   26000        25947          اردبیل            12   \n",
      "\n",
      "    Waste  Year  Month Type Class PriceLevel  \n",
      "2      56  2022      3    R     S       High  \n",
      "3      93  2022      3    R     S        Med  \n",
      "4      69  2022      3    R     S        Med  \n",
      "8      71  2022      2    R     S       High  \n",
      "10     53  2022      2    w     S       High  \n"
     ]
    }
   ],
   "source": [
    "Indfilter = df.groupby('Industry_Cod')['Transaction_ID'].count().reset_index()\n",
    "Indfilter.columns = ['Industry_Cod', 'Sale_Count']\n",
    "\n",
    "Indfilter = Indfilter[Indfilter['Sale_Count'] > 50000]['Industry_Cod']\n",
    "\n",
    "Indfilter = df[df['Industry_Cod'].isin(Indfilter)]\n",
    "\n",
    "print(Indfilter.head())\n"
   ]
  },
  {
   "cell_type": "markdown",
   "id": "b14f15e0",
   "metadata": {
    "id": "csEaVRPqTrn_",
    "papermill": {
     "duration": 0.00823,
     "end_time": "2024-12-21T11:33:57.074831",
     "exception": false,
     "start_time": "2024-12-21T11:33:57.066601",
     "status": "completed"
    },
    "tags": []
   },
   "source": [
    "<p dir=\"ltr\" style=\"text-align: justify; line-height: 200%; font-family: Arial; font-size: medium\">\n",
    "<font face=\"Arial\" size=\"3\">\n",
    "As the final task, calculate and report the **average waste** for the **construction industry** in the year **2020** for purchases with **High** prices, normalized by the number of bundles.\n",
    "</font>\n",
    "</p>\n"
   ]
  },
  {
   "cell_type": "code",
   "execution_count": 14,
   "id": "8aedb948",
   "metadata": {
    "execution": {
     "iopub.execute_input": "2024-12-21T11:33:57.092811Z",
     "iopub.status.busy": "2024-12-21T11:33:57.092412Z",
     "iopub.status.idle": "2024-12-21T11:33:57.188352Z",
     "shell.execute_reply": "2024-12-21T11:33:57.187269Z"
    },
    "id": "QAb4Ky-1Trn_",
    "outputId": "f634e9f6-d656-47d2-a90d-9d73c745723d",
    "papermill": {
     "duration": 0.106985,
     "end_time": "2024-12-21T11:33:57.190180",
     "exception": false,
     "start_time": "2024-12-21T11:33:57.083195",
     "status": "completed"
    },
    "tags": []
   },
   "outputs": [
    {
     "data": {
      "text/plain": [
       "0.0034908593627899706"
      ]
     },
     "execution_count": 14,
     "metadata": {},
     "output_type": "execute_result"
    }
   ],
   "source": [
    "w2020 = df[\n",
    "    (df['Industry'] == 'ساختمان') & \n",
    "    (df['Year'] == 2020) & \n",
    "    (df['PriceLevel'] == 'High') & \n",
    "    (df['Bandel'] > 0)\n",
    "]\n",
    "\n",
    "if not w2020.empty and w2020['Bandel'].sum() > 0:\n",
    "    avg_waste_per_bandel = (w2020['Waste'].sum()) / (w2020['Bandel'].sum())\n",
    "else:\n",
    "    avg_waste_per_bandel = 0\n",
    "\n",
    "avg_waste_per_bandel\n"
   ]
  },
  {
   "cell_type": "markdown",
   "id": "9bb10816",
   "metadata": {
    "id": "TdqiWVPUehQb",
    "papermill": {
     "duration": 0.007991,
     "end_time": "2024-12-21T11:33:57.206904",
     "exception": false,
     "start_time": "2024-12-21T11:33:57.198913",
     "status": "completed"
    },
    "tags": []
   },
   "source": [
    "\n"
   ]
  },
  {
   "cell_type": "code",
   "execution_count": 15,
   "id": "8da3bd14",
   "metadata": {
    "execution": {
     "iopub.execute_input": "2024-12-21T11:33:57.225860Z",
     "iopub.status.busy": "2024-12-21T11:33:57.225476Z",
     "iopub.status.idle": "2024-12-21T11:34:01.045706Z",
     "shell.execute_reply": "2024-12-21T11:34:01.044237Z"
    },
    "id": "tO0NrWOxenU-",
    "papermill": {
     "duration": 3.83195,
     "end_time": "2024-12-21T11:34:01.047916",
     "exception": false,
     "start_time": "2024-12-21T11:33:57.215966",
     "status": "completed"
    },
    "tags": []
   },
   "outputs": [
    {
     "name": "stdout",
     "output_type": "stream",
     "text": [
      "File Paths:\n",
      "['df.csv', 'Sales.csv', 'Customers.csv', 'Industries.csv', 'Provinces.csv', 'Rw.csv', 'Indfilter.csv', 'w2020.csv']\n"
     ]
    }
   ],
   "source": [
    "import zlib\n",
    "import zipfile\n",
    "import joblib\n",
    "\n",
    "df = df.head(100)\n",
    "df.to_csv(\"df.csv\", header=False)\n",
    "Sales.to_csv('Sales.csv',header=False)\n",
    "Customers.to_csv('Customers.csv',header=False)\n",
    "Industries.to_csv('Industries.csv',header=False)\n",
    "Provinces.to_csv('Provinces.csv',header=False)\n",
    "Rw.to_csv('Rw.csv',header=False)\n",
    "Indfilter.to_csv('Indfilter.csv',header=False)\n",
    "w2020.to_csv('w2020.csv', header=False)\n",
    "\n",
    "def compress(file_names):\n",
    "    print(\"File Paths:\")\n",
    "    print(file_names)\n",
    "    compression = zipfile.ZIP_DEFLATED\n",
    "    with zipfile.ZipFile(\"result.zip\", mode=\"w\") as zf:\n",
    "        for file_name in file_names:\n",
    "            zf.write('./' + file_name, file_name, compress_type=compression)\n",
    "\n",
    "file_names = [\"df.csv\", \"Sales.csv\", \"Customers.csv\", \"Industries.csv\", \"Provinces.csv\", \"Rw.csv\", \"Indfilter.csv\", \"w2020.csv\"]\n",
    "compress(file_names)"
   ]
  }
 ],
 "metadata": {
  "colab": {
   "provenance": []
  },
  "kaggle": {
   "accelerator": "none",
   "dataSources": [
    {
     "datasetId": 6332693,
     "sourceId": 10240353,
     "sourceType": "datasetVersion"
    },
    {
     "datasetId": 6332699,
     "sourceId": 10240359,
     "sourceType": "datasetVersion"
    }
   ],
   "dockerImageVersionId": 30822,
   "isGpuEnabled": false,
   "isInternetEnabled": false,
   "language": "python",
   "sourceType": "notebook"
  },
  "kernelspec": {
   "display_name": "Python 3",
   "language": "python",
   "name": "python3"
  },
  "language_info": {
   "codemirror_mode": {
    "name": "ipython",
    "version": 3
   },
   "file_extension": ".py",
   "mimetype": "text/x-python",
   "name": "python",
   "nbconvert_exporter": "python",
   "pygments_lexer": "ipython3",
   "version": "3.10.12"
  },
  "papermill": {
   "default_parameters": {},
   "duration": 129.498014,
   "end_time": "2024-12-21T11:34:01.780609",
   "environment_variables": {},
   "exception": null,
   "input_path": "__notebook__.ipynb",
   "output_path": "__notebook__.ipynb",
   "parameters": {},
   "start_time": "2024-12-21T11:31:52.282595",
   "version": "2.6.0"
  }
 },
 "nbformat": 4,
 "nbformat_minor": 5
}
